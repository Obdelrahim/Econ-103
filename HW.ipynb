{
 "cells": [
  {
   "cell_type": "code",
   "execution_count": 13,
   "id": "greek-bradley",
   "metadata": {},
   "outputs": [],
   "source": [
    "import pandas as pd\n",
    "import numpy as np \n",
    "import statsmodels.api as sm\n",
    "import statsmodels.formula.api as smf\n",
    "import matplotlib.pyplot as plt \n",
    "import seaborn as sns \n",
    "import scipy as sp"
   ]
  },
  {
   "cell_type": "code",
   "execution_count": 14,
   "id": "conditional-insertion",
   "metadata": {},
   "outputs": [],
   "source": [
    "df=pd.read_csv('bw_smoking.csv')"
   ]
  },
  {
   "cell_type": "code",
   "execution_count": 15,
   "id": "mysterious-deployment",
   "metadata": {},
   "outputs": [
    {
     "data": {
      "text/html": [
       "<div>\n",
       "<style scoped>\n",
       "    .dataframe tbody tr th:only-of-type {\n",
       "        vertical-align: middle;\n",
       "    }\n",
       "\n",
       "    .dataframe tbody tr th {\n",
       "        vertical-align: top;\n",
       "    }\n",
       "\n",
       "    .dataframe thead th {\n",
       "        text-align: right;\n",
       "    }\n",
       "</style>\n",
       "<table border=\"1\" class=\"dataframe\">\n",
       "  <thead>\n",
       "    <tr style=\"text-align: right;\">\n",
       "      <th></th>\n",
       "      <th>nprevist</th>\n",
       "      <th>alcohol</th>\n",
       "      <th>tripre1</th>\n",
       "      <th>tripre2</th>\n",
       "      <th>tripre3</th>\n",
       "      <th>tripre0</th>\n",
       "      <th>birthweight</th>\n",
       "      <th>smoker</th>\n",
       "      <th>unmarried</th>\n",
       "      <th>educ</th>\n",
       "      <th>age</th>\n",
       "      <th>drinks</th>\n",
       "    </tr>\n",
       "  </thead>\n",
       "  <tbody>\n",
       "    <tr>\n",
       "      <th>0</th>\n",
       "      <td>12</td>\n",
       "      <td>0</td>\n",
       "      <td>1</td>\n",
       "      <td>0</td>\n",
       "      <td>0</td>\n",
       "      <td>0</td>\n",
       "      <td>4253</td>\n",
       "      <td>1</td>\n",
       "      <td>1</td>\n",
       "      <td>12</td>\n",
       "      <td>27</td>\n",
       "      <td>0</td>\n",
       "    </tr>\n",
       "    <tr>\n",
       "      <th>1</th>\n",
       "      <td>5</td>\n",
       "      <td>0</td>\n",
       "      <td>0</td>\n",
       "      <td>1</td>\n",
       "      <td>0</td>\n",
       "      <td>0</td>\n",
       "      <td>3459</td>\n",
       "      <td>0</td>\n",
       "      <td>0</td>\n",
       "      <td>16</td>\n",
       "      <td>24</td>\n",
       "      <td>0</td>\n",
       "    </tr>\n",
       "    <tr>\n",
       "      <th>2</th>\n",
       "      <td>12</td>\n",
       "      <td>0</td>\n",
       "      <td>1</td>\n",
       "      <td>0</td>\n",
       "      <td>0</td>\n",
       "      <td>0</td>\n",
       "      <td>2920</td>\n",
       "      <td>1</td>\n",
       "      <td>0</td>\n",
       "      <td>11</td>\n",
       "      <td>23</td>\n",
       "      <td>0</td>\n",
       "    </tr>\n",
       "    <tr>\n",
       "      <th>3</th>\n",
       "      <td>13</td>\n",
       "      <td>0</td>\n",
       "      <td>1</td>\n",
       "      <td>0</td>\n",
       "      <td>0</td>\n",
       "      <td>0</td>\n",
       "      <td>2600</td>\n",
       "      <td>0</td>\n",
       "      <td>0</td>\n",
       "      <td>17</td>\n",
       "      <td>28</td>\n",
       "      <td>0</td>\n",
       "    </tr>\n",
       "    <tr>\n",
       "      <th>4</th>\n",
       "      <td>9</td>\n",
       "      <td>0</td>\n",
       "      <td>1</td>\n",
       "      <td>0</td>\n",
       "      <td>0</td>\n",
       "      <td>0</td>\n",
       "      <td>3742</td>\n",
       "      <td>0</td>\n",
       "      <td>0</td>\n",
       "      <td>13</td>\n",
       "      <td>27</td>\n",
       "      <td>0</td>\n",
       "    </tr>\n",
       "    <tr>\n",
       "      <th>...</th>\n",
       "      <td>...</td>\n",
       "      <td>...</td>\n",
       "      <td>...</td>\n",
       "      <td>...</td>\n",
       "      <td>...</td>\n",
       "      <td>...</td>\n",
       "      <td>...</td>\n",
       "      <td>...</td>\n",
       "      <td>...</td>\n",
       "      <td>...</td>\n",
       "      <td>...</td>\n",
       "      <td>...</td>\n",
       "    </tr>\n",
       "    <tr>\n",
       "      <th>2995</th>\n",
       "      <td>15</td>\n",
       "      <td>0</td>\n",
       "      <td>0</td>\n",
       "      <td>1</td>\n",
       "      <td>0</td>\n",
       "      <td>0</td>\n",
       "      <td>2520</td>\n",
       "      <td>0</td>\n",
       "      <td>0</td>\n",
       "      <td>12</td>\n",
       "      <td>42</td>\n",
       "      <td>0</td>\n",
       "    </tr>\n",
       "    <tr>\n",
       "      <th>2996</th>\n",
       "      <td>10</td>\n",
       "      <td>0</td>\n",
       "      <td>1</td>\n",
       "      <td>0</td>\n",
       "      <td>0</td>\n",
       "      <td>0</td>\n",
       "      <td>3062</td>\n",
       "      <td>0</td>\n",
       "      <td>0</td>\n",
       "      <td>17</td>\n",
       "      <td>27</td>\n",
       "      <td>0</td>\n",
       "    </tr>\n",
       "    <tr>\n",
       "      <th>2997</th>\n",
       "      <td>11</td>\n",
       "      <td>0</td>\n",
       "      <td>0</td>\n",
       "      <td>1</td>\n",
       "      <td>0</td>\n",
       "      <td>0</td>\n",
       "      <td>3799</td>\n",
       "      <td>0</td>\n",
       "      <td>0</td>\n",
       "      <td>12</td>\n",
       "      <td>28</td>\n",
       "      <td>0</td>\n",
       "    </tr>\n",
       "    <tr>\n",
       "      <th>2998</th>\n",
       "      <td>10</td>\n",
       "      <td>0</td>\n",
       "      <td>1</td>\n",
       "      <td>0</td>\n",
       "      <td>0</td>\n",
       "      <td>0</td>\n",
       "      <td>2070</td>\n",
       "      <td>1</td>\n",
       "      <td>0</td>\n",
       "      <td>11</td>\n",
       "      <td>21</td>\n",
       "      <td>0</td>\n",
       "    </tr>\n",
       "    <tr>\n",
       "      <th>2999</th>\n",
       "      <td>11</td>\n",
       "      <td>0</td>\n",
       "      <td>1</td>\n",
       "      <td>0</td>\n",
       "      <td>0</td>\n",
       "      <td>0</td>\n",
       "      <td>2948</td>\n",
       "      <td>0</td>\n",
       "      <td>0</td>\n",
       "      <td>14</td>\n",
       "      <td>23</td>\n",
       "      <td>0</td>\n",
       "    </tr>\n",
       "  </tbody>\n",
       "</table>\n",
       "<p>3000 rows × 12 columns</p>\n",
       "</div>"
      ],
      "text/plain": [
       "      nprevist  alcohol  tripre1  tripre2  tripre3  tripre0  birthweight  \\\n",
       "0           12        0        1        0        0        0         4253   \n",
       "1            5        0        0        1        0        0         3459   \n",
       "2           12        0        1        0        0        0         2920   \n",
       "3           13        0        1        0        0        0         2600   \n",
       "4            9        0        1        0        0        0         3742   \n",
       "...        ...      ...      ...      ...      ...      ...          ...   \n",
       "2995        15        0        0        1        0        0         2520   \n",
       "2996        10        0        1        0        0        0         3062   \n",
       "2997        11        0        0        1        0        0         3799   \n",
       "2998        10        0        1        0        0        0         2070   \n",
       "2999        11        0        1        0        0        0         2948   \n",
       "\n",
       "      smoker  unmarried  educ  age  drinks  \n",
       "0          1          1    12   27       0  \n",
       "1          0          0    16   24       0  \n",
       "2          1          0    11   23       0  \n",
       "3          0          0    17   28       0  \n",
       "4          0          0    13   27       0  \n",
       "...      ...        ...   ...  ...     ...  \n",
       "2995       0          0    12   42       0  \n",
       "2996       0          0    17   27       0  \n",
       "2997       0          0    12   28       0  \n",
       "2998       1          0    11   21       0  \n",
       "2999       0          0    14   23       0  \n",
       "\n",
       "[3000 rows x 12 columns]"
      ]
     },
     "execution_count": 15,
     "metadata": {},
     "output_type": "execute_result"
    }
   ],
   "source": [
    "df"
   ]
  },
  {
   "cell_type": "code",
   "execution_count": 16,
   "id": "structured-singles",
   "metadata": {},
   "outputs": [],
   "source": [
    "df_s=df[df['smoker']==1]\n",
    "df_ns=df[df['smoker']==0]\n",
    "df1=df[['birthweight']]\n",
    "df_sb=df_s[['birthweight']]\n",
    "df_nsb=df_ns[['birthweight']]"
   ]
  },
  {
   "cell_type": "code",
   "execution_count": 17,
   "id": "naked-racing",
   "metadata": {},
   "outputs": [
    {
     "data": {
      "text/plain": [
       "birthweight    3382.933667\n",
       "dtype: float64"
      ]
     },
     "execution_count": 17,
     "metadata": {},
     "output_type": "execute_result"
    }
   ],
   "source": [
    "np.mean(df1)"
   ]
  },
  {
   "cell_type": "code",
   "execution_count": 18,
   "id": "crucial-fitting",
   "metadata": {},
   "outputs": [
    {
     "data": {
      "text/plain": [
       "birthweight    3178.831615\n",
       "dtype: float64"
      ]
     },
     "execution_count": 18,
     "metadata": {},
     "output_type": "execute_result"
    }
   ],
   "source": [
    "np.mean(df_sb)"
   ]
  },
  {
   "cell_type": "code",
   "execution_count": 19,
   "id": "bibliographic-expression",
   "metadata": {},
   "outputs": [
    {
     "data": {
      "text/plain": [
       "birthweight    3432.059967\n",
       "dtype: float64"
      ]
     },
     "execution_count": 19,
     "metadata": {},
     "output_type": "execute_result"
    }
   ],
   "source": [
    "np.mean(df_nsb)"
   ]
  },
  {
   "cell_type": "code",
   "execution_count": 20,
   "id": "falling-ticket",
   "metadata": {},
   "outputs": [
    {
     "data": {
      "text/plain": [
       "<function matplotlib.pyplot.show(close=None, block=None)>"
      ]
     },
     "execution_count": 20,
     "metadata": {},
     "output_type": "execute_result"
    },
    {
     "data": {
      "image/png": "[encoded data removed]",
      "text/plain": [
       "<Figure size 432x288 with 1 Axes>"
      ]
     },
     "metadata": {
      "needs_background": "light"
     },
     "output_type": "display_data"
    }
   ],
   "source": [
    "plt.hist(df['smoker'])\n",
    "plt.title(\"Histogram of Pregnant Smokers and Pregnant Nonsmokers\")\n",
    "plt.xlabel(\"Smoker=1, Nonsmoker=0\")\n",
    "plt.ylabel(\"Count\")\n",
    "plt.show"
   ]
  },
  {
   "cell_type": "code",
   "execution_count": 21,
   "id": "small-fifth",
   "metadata": {},
   "outputs": [
    {
     "data": {
      "text/plain": [
       "<function matplotlib.pyplot.show(close=None, block=None)>"
      ]
     },
     "execution_count": 21,
     "metadata": {},
     "output_type": "execute_result"
    },
    {
     "data": {
      "image/png": "[encoded data removed]",
      "text/plain": [
       "<Figure size 432x288 with 1 Axes>"
      ]
     },
     "metadata": {
      "needs_background": "light"
     },
     "output_type": "display_data"
    }
   ],
   "source": [
    "plt.hist(df1)\n",
    "plt.title(\"Histogram of Birthweight\")\n",
    "plt.xlabel(\"Birthweight\")\n",
    "plt.ylabel(\"Count\")\n",
    "plt.show"
   ]
  },
  {
   "cell_type": "code",
   "execution_count": 22,
   "id": "oriented-bradford",
   "metadata": {},
   "outputs": [
    {
     "data": {
      "image/png": "[encoded data removed]",
      "text/plain": [
       "<Figure size 432x288 with 1 Axes>"
      ]
     },
     "metadata": {
      "needs_background": "light"
     },
     "output_type": "display_data"
    }
   ],
   "source": [
    "plt.scatter(df['smoker'], df['birthweight'])\n",
    "plt.title(\"Scatterplot comparing Birthweights of children between smokers and nonsmokers\")\n",
    "plt.xlabel(\"Smoker\")\n",
    "plt.ylabel(\"Birthweight\")\n",
    "plt.show()"
   ]
  },
  {
   "cell_type": "code",
   "execution_count": 23,
   "id": "better-carry",
   "metadata": {},
   "outputs": [
    {
     "name": "stdout",
     "output_type": "stream",
     "text": [
      "                            OLS Regression Results                            \n",
      "==============================================================================\n",
      "Dep. Variable:            birthweight   R-squared:                       0.029\n",
      "Model:                            OLS   Adj. R-squared:                  0.028\n",
      "Method:                 Least Squares   F-statistic:                     89.21\n",
      "Date:                Sun, 11 Jul 2021   Prob (F-statistic):           6.90e-21\n",
      "Time:                        06:18:59   Log-Likelihood:                -23364.\n",
      "No. Observations:                3000   AIC:                         4.673e+04\n",
      "Df Residuals:                    2998   BIC:                         4.674e+04\n",
      "Df Model:                           1                                         \n",
      "Covariance Type:                  HC1                                         \n",
      "==============================================================================\n",
      "                 coef    std err          z      P>|z|      [0.025      0.975]\n",
      "------------------------------------------------------------------------------\n",
      "Intercept   3432.0600     11.891    288.638      0.000    3408.755    3455.365\n",
      "smoker      -253.2284     26.810     -9.445      0.000    -305.776    -200.681\n",
      "==============================================================================\n",
      "Omnibus:                      473.891   Durbin-Watson:                   1.973\n",
      "Prob(Omnibus):                  0.000   Jarque-Bera (JB):             1247.472\n",
      "Skew:                          -0.858   Prob(JB):                    1.30e-271\n",
      "Kurtosis:                       5.652   Cond. No.                         2.64\n",
      "==============================================================================\n",
      "\n",
      "Notes:\n",
      "[1] Standard Errors are heteroscedasticity robust (HC1)\n"
     ]
    }
   ],
   "source": [
    "model=smf.ols(formula='birthweight~smoker', data = df)\n",
    "results=model.fit(cov_type='HC1')\n",
    "print(results.summary())"
   ]
  },
  {
   "cell_type": "code",
   "execution_count": 24,
   "id": "chicken-complex",
   "metadata": {},
   "outputs": [
    {
     "data": {
      "image/png": "[encoded data removed]",
      "text/plain": [
       "<Figure size 432x288 with 1 Axes>"
      ]
     },
     "metadata": {},
     "output_type": "display_data"
    }
   ],
   "source": [
    "sns.set()\n",
    "sns.regplot(x='smoker', y='birthweight', ci=None, data=df)\n",
    "plt.xlabel(\"Smoker=1, Nonsmoker=0\")\n",
    "plt.ylabel(\"Birthweight in grams\")\n",
    "plt.title(\"Scatter Plot with Regression of Smoker vs Nonsmoker Birthweight\")\n",
    "plt.xlim(-0.1,1.1)\n",
    "plt.show()"
   ]
  },
  {
   "cell_type": "code",
   "execution_count": 25,
   "id": "female-problem",
   "metadata": {},
   "outputs": [],
   "source": [
    "# 12. The intercept is β0 and is indicative of someone who doesn't smoke. For the mother's who dont smoke the birthweight is on average 3.423.0600 grams\n",
    "#     The smoker variable (β1) is multiplied by the regressor. On average when the mother does smoke the baby has a birthweight of 253 grams less. \n",
    "#     In this case the test statistic value, -9.445, is incredibly small, proving that there is a negative correlation between birthweight and smoking while pregnant. This goes beyond a 5% level of confidence as -9.445<2.17\n",
    "#     The null hypothesis would be β1=0 and the alternative would be β1≠0 with the null ultimately being rejected "
   ]
  },
  {
   "cell_type": "code",
   "execution_count": 26,
   "id": "grand-healing",
   "metadata": {},
   "outputs": [],
   "source": [
    "# 13. [-305.76, -200.681]"
   ]
  },
  {
   "cell_type": "code",
   "execution_count": 30,
   "id": "great-exclusion",
   "metadata": {},
   "outputs": [
    {
     "data": {
      "image/png": "[encoded data removed]",
      "text/plain": [
       "<Figure size 432x288 with 1 Axes>"
      ]
     },
     "metadata": {},
     "output_type": "display_data"
    }
   ],
   "source": [
    "df['resid'] = results.resid\n",
    "sns.set()\n",
    "sns.regplot(x='smoker', y='resid', ci=None, data=df)\n",
    "plt.xlabel(\"Smoker=1, Nonsmoker=0\")\n",
    "plt.ylabel(\"Residuals\")\n",
    "plt.title(\"Scatter Plot with Regression of Smoker vs Nonsmoker Residuals\")\n",
    "plt.xlim(-0.1,1.1)\n",
    "plt.show()"
   ]
  },
  {
   "cell_type": "code",
   "execution_count": 31,
   "id": "thermal-procurement",
   "metadata": {},
   "outputs": [],
   "source": [
    "# 14. Homoskedasticity and Heteroskedasticity describe the distributions of points within in a scatter plot. \n",
    "#     Homo implies a uniform distirbution, while hetero implies a distribution that narrows at some part, or is overall uneven in some way. \n",
    "#     In this specific distribution, the points narrow towards the end resulting in a homoskedastic distribution. "
   ]
  },
  {
   "cell_type": "code",
   "execution_count": 33,
   "id": "awful-stadium",
   "metadata": {},
   "outputs": [],
   "source": [
    "# 15. The OlS assumption holds because as shown by the scatter plot with the regression line, the regression line is flat, along the y=0 line. \n",
    "#     The residuals are uncorrelated with the regressor. \n",
    "#     As for the other variables that could affect birthweight, it could be things such as alcohol consumption, education, nutrition, and income level that could possibly affect brithweight of babies.  "
   ]
  }
 ],
 "metadata": {
  "kernelspec": {
   "display_name": "Python 3 (ipykernel)",
   "language": "python",
   "name": "python3"
  },
  "language_info": {
   "codemirror_mode": {
    "name": "ipython",
    "version": 3
   },
   "file_extension": ".py",
   "mimetype": "text/x-python",
   "name": "python",
   "nbconvert_exporter": "python",
   "pygments_lexer": "ipython3",
   "version": "3.10.6"
  },
  "toc": {
   "base_numbering": 1,
   "nav_menu": {},
   "number_sections": true,
   "sideBar": true,
   "skip_h1_title": false,
   "title_cell": "Table of Contents",
   "title_sidebar": "Contents",
   "toc_cell": false,
   "toc_position": {},
   "toc_section_display": true,
   "toc_window_display": false
  }
 },
 "nbformat": 4,
 "nbformat_minor": 5
}
